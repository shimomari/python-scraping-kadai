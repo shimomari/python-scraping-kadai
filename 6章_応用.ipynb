{
  "nbformat": 4,
  "nbformat_minor": 0,
  "metadata": {
    "colab": {
      "provenance": [],
      "authorship_tag": "ABX9TyOG8E8qmKlDEDNfzLSj8Luw",
      "include_colab_link": true
    },
    "kernelspec": {
      "name": "python3",
      "display_name": "Python 3"
    },
    "language_info": {
      "name": "python"
    }
  },
  "cells": [
    {
      "cell_type": "markdown",
      "metadata": {
        "id": "view-in-github",
        "colab_type": "text"
      },
      "source": [
        "<a href=\"https://colab.research.google.com/github/shimomari/python-scraping-kadai/blob/main/6%E7%AB%A0_%E5%BF%9C%E7%94%A8.ipynb\" target=\"_parent\"><img src=\"https://colab.research.google.com/assets/colab-badge.svg\" alt=\"Open In Colab\"/></a>"
      ]
    },
    {
      "cell_type": "code",
      "source": [
        "!pip install requests"
      ],
      "metadata": {
        "colab": {
          "base_uri": "https://localhost:8080/"
        },
        "id": "IhnwVQvHMh0V",
        "outputId": "82f37db0-cf60-410b-bdfd-dc131e04044c"
      },
      "execution_count": null,
      "outputs": [
        {
          "output_type": "stream",
          "name": "stdout",
          "text": [
            "Requirement already satisfied: requests in /usr/local/lib/python3.11/dist-packages (2.32.3)\n",
            "Requirement already satisfied: charset-normalizer<4,>=2 in /usr/local/lib/python3.11/dist-packages (from requests) (3.4.1)\n",
            "Requirement already satisfied: idna<4,>=2.5 in /usr/local/lib/python3.11/dist-packages (from requests) (3.10)\n",
            "Requirement already satisfied: urllib3<3,>=1.21.1 in /usr/local/lib/python3.11/dist-packages (from requests) (2.3.0)\n",
            "Requirement already satisfied: certifi>=2017.4.17 in /usr/local/lib/python3.11/dist-packages (from requests) (2025.1.31)\n"
          ]
        }
      ]
    },
    {
      "cell_type": "code",
      "source": [
        "import requests\n",
        "import pprint\n",
        "from getpass import getpass"
      ],
      "metadata": {
        "id": "js3xksGCMw11"
      },
      "execution_count": null,
      "outputs": []
    },
    {
      "cell_type": "code",
      "source": [
        "# APIキーを指定\n",
        "api_key = getpass('APIキーを入力してください: ')"
      ],
      "metadata": {
        "colab": {
          "base_uri": "https://localhost:8080/"
        },
        "id": "SfhcjbyMM2Lc",
        "outputId": "3aa865b9-e69c-4e41-9b59-198246f59d46"
      },
      "execution_count": null,
      "outputs": [
        {
          "name": "stdout",
          "output_type": "stream",
          "text": [
            "APIキーを入力してください: ··········\n"
          ]
        }
      ]
    },
    {
      "cell_type": "code",
      "source": [
        "# 検索キーワードを変数search_wordに格納\n",
        "search_word = input('検索キーワードを入力してください: ')"
      ],
      "metadata": {
        "colab": {
          "base_uri": "https://localhost:8080/"
        },
        "id": "1bUtrDTt-Gh2",
        "outputId": "c4921b18-236e-4191-cc1f-fb0c8ca4b776"
      },
      "execution_count": null,
      "outputs": [
        {
          "name": "stdout",
          "output_type": "stream",
          "text": [
            "検索キーワードを入力してください: Python\n"
          ]
        }
      ]
    },
    {
      "cell_type": "code",
      "source": [
        "# YouTube Data APIのURL（動画検索用）\n",
        "url = 'https://www.googleapis.com/youtube/v3/search'\n",
        "\n",
        "# データを取得\n",
        "response = requests.get(\n",
        "    url,\n",
        "    params={\n",
        "        'key': api_key,  # APIキーをパラメータに追加\n",
        "        'part': 'snippet',  # 動画情報の詳細を指定\n",
        "        'q': search_word,  # 検索キーワードをパラメータに追加\n",
        "        'type': 'video',  # 動画のみを検索対象に指定\n",
        "        'maxResults': 10  # 取得する動画の最大数を指定\n",
        "    }\n",
        ")"
      ],
      "metadata": {
        "id": "9TZI86HR-Q2W"
      },
      "execution_count": null,
      "outputs": []
    },
    {
      "cell_type": "code",
      "source": [
        "# レスポンスのJSONを取得\n",
        "json_data = response.json()\n",
        "\n",
        "# JSONの中身を確認\n",
        "pprint.pprint(json_data)"
      ],
      "metadata": {
        "colab": {
          "base_uri": "https://localhost:8080/"
        },
        "id": "vtZxjmKw-gxK",
        "outputId": "c9f09b57-622c-4a1d-94db-d11843045e3d"
      },
      "execution_count": null,
      "outputs": [
        {
          "output_type": "stream",
          "name": "stdout",
          "text": [
            "{'etag': 'qJFk0PlWGhQMN-VqV-BWLJWuo3c',\n",
            " 'items': [{'etag': 'A65vm6tstrQdHF1qSNE5DpRdqwo',\n",
            "            'id': {'kind': 'youtube#video', 'videoId': '4d5C_PQl8Tg'},\n",
            "            'kind': 'youtube#searchResult',\n",
            "            'snippet': {'channelId': 'UCNtZPzvkjjB3EuPMNY71cmA',\n",
            "                        'channelTitle': 'GOT7',\n",
            "                        'description': 'GOT7 【WINTER HEPTAGON】 Listen Now! '\n",
            "                                       'Streaming & Download '\n",
            "                                       'https://lnk.to/WINTER_HEPTAGON #GOT7 '\n",
            "                                       '#갓세븐 ...',\n",
            "                        'liveBroadcastContent': 'none',\n",
            "                        'publishTime': '2025-01-20T09:00:02Z',\n",
            "                        'publishedAt': '2025-01-20T09:00:02Z',\n",
            "                        'thumbnails': {'default': {'height': 90,\n",
            "                                                   'url': 'https://i.ytimg.com/vi/4d5C_PQl8Tg/default.jpg',\n",
            "                                                   'width': 120},\n",
            "                                       'high': {'height': 360,\n",
            "                                                'url': 'https://i.ytimg.com/vi/4d5C_PQl8Tg/hqdefault.jpg',\n",
            "                                                'width': 480},\n",
            "                                       'medium': {'height': 180,\n",
            "                                                  'url': 'https://i.ytimg.com/vi/4d5C_PQl8Tg/mqdefault.jpg',\n",
            "                                                  'width': 320}},\n",
            "                        'title': 'GOT7 &#39;PYTHON&#39; MV'}},\n",
            "           {'etag': '_6gmFybUsMLhDdFt_NuD7gN-V_U',\n",
            "            'id': {'kind': 'youtube#video', 'videoId': '8nDFAyWQ2hk'},\n",
            "            'kind': 'youtube#searchResult',\n",
            "            'snippet': {'channelId': 'UCbD8EppRX3ZwJSou-TVo90A',\n",
            "                        'channelTitle': 'Mnet K-POP',\n",
            "                        'description': '티빙에서 스트리밍 : '\n",
            "                                       'https://tving.onelink.me/xHqC/30a78d6f '\n",
            "                                       'M COUNTDOWN｜Ep.872 갓세븐 - 파이톤 (GOT7 - '\n",
            "                                       'PYTHON) World ...',\n",
            "                        'liveBroadcastContent': 'none',\n",
            "                        'publishTime': '2025-01-23T11:27:25Z',\n",
            "                        'publishedAt': '2025-01-23T11:27:25Z',\n",
            "                        'thumbnails': {'default': {'height': 90,\n",
            "                                                   'url': 'https://i.ytimg.com/vi/8nDFAyWQ2hk/default.jpg',\n",
            "                                                   'width': 120},\n",
            "                                       'high': {'height': 360,\n",
            "                                                'url': 'https://i.ytimg.com/vi/8nDFAyWQ2hk/hqdefault.jpg',\n",
            "                                                'width': 480},\n",
            "                                       'medium': {'height': 180,\n",
            "                                                  'url': 'https://i.ytimg.com/vi/8nDFAyWQ2hk/mqdefault.jpg',\n",
            "                                                  'width': 320}},\n",
            "                        'title': '&#39;최초 공개&#39; GOT7 - PYTHON #엠카운트다운 EP.872 '\n",
            "                                 '| Mnet 250123 방송'}},\n",
            "           {'etag': 'myhpz3RTRzPbHo9bu4hp1f9b_ro',\n",
            "            'id': {'kind': 'youtube#video', 'videoId': 'Jb1GccV3w_c'},\n",
            "            'kind': 'youtube#searchResult',\n",
            "            'snippet': {'channelId': 'UCTQVIXvcHrR9jYoJ6qaBAow',\n",
            "                        'channelTitle': 'M2',\n",
            "                        'description': '[릴레이댄스] 갓세븐 - PYTHON [Relay Dance] '\n",
            "                                       'GOT7 - PYTHON 데뷔 11주년 컴백으로 돌아온 갓세븐   '\n",
            "                                       '(1:49) 완전체 릴댄만을 ...',\n",
            "                        'liveBroadcastContent': 'none',\n",
            "                        'publishTime': '2025-01-24T10:00:18Z',\n",
            "                        'publishedAt': '2025-01-24T10:00:18Z',\n",
            "                        'thumbnails': {'default': {'height': 90,\n",
            "                                                   'url': 'https://i.ytimg.com/vi/Jb1GccV3w_c/default.jpg',\n",
            "                                                   'width': 120},\n",
            "                                       'high': {'height': 360,\n",
            "                                                'url': 'https://i.ytimg.com/vi/Jb1GccV3w_c/hqdefault.jpg',\n",
            "                                                'width': 480},\n",
            "                                       'medium': {'height': 180,\n",
            "                                                  'url': 'https://i.ytimg.com/vi/Jb1GccV3w_c/mqdefault.jpg',\n",
            "                                                  'width': 320}},\n",
            "                        'title': '[릴레이댄스] GOT7(갓세븐) - PYTHON (4K)'}},\n",
            "           {'etag': 'AOLJDIkxlWl2qX0P1iP1JkwDTfM',\n",
            "            'id': {'kind': 'youtube#video', 'videoId': '_uQrJ0TkZlc'},\n",
            "            'kind': 'youtube#searchResult',\n",
            "            'snippet': {'channelId': 'UCWv7vMbMWH4-V0ZXdmDpPBA',\n",
            "                        'channelTitle': 'Programming with Mosh',\n",
            "                        'description': 'Learn Python for AI, machine learning, '\n",
            "                                       'and web development with this '\n",
            "                                       'beginner-friendly course! Get 6 months '\n",
            "                                       'of PyCharm ...',\n",
            "                        'liveBroadcastContent': 'none',\n",
            "                        'publishTime': '2019-02-18T15:00:08Z',\n",
            "                        'publishedAt': '2019-02-18T15:00:08Z',\n",
            "                        'thumbnails': {'default': {'height': 90,\n",
            "                                                   'url': 'https://i.ytimg.com/vi/_uQrJ0TkZlc/default.jpg',\n",
            "                                                   'width': 120},\n",
            "                                       'high': {'height': 360,\n",
            "                                                'url': 'https://i.ytimg.com/vi/_uQrJ0TkZlc/hqdefault.jpg',\n",
            "                                                'width': 480},\n",
            "                                       'medium': {'height': 180,\n",
            "                                                  'url': 'https://i.ytimg.com/vi/_uQrJ0TkZlc/mqdefault.jpg',\n",
            "                                                  'width': 320}},\n",
            "                        'title': 'Python Full Course for Beginners'}},\n",
            "           {'etag': 'cJ69HSbVqBHm7eLwyRxjhcnQGV0',\n",
            "            'id': {'kind': 'youtube#video', 'videoId': 'K5KVEU3aaeQ'},\n",
            "            'kind': 'youtube#searchResult',\n",
            "            'snippet': {'channelId': 'UCWv7vMbMWH4-V0ZXdmDpPBA',\n",
            "                        'channelTitle': 'Programming with Mosh',\n",
            "                        'description': 'Master Python from scratch No '\n",
            "                                       'fluff—just clear, practical coding '\n",
            "                                       'skills to kickstart your journey! ❤️ '\n",
            "                                       'Join this channel to get ...',\n",
            "                        'liveBroadcastContent': 'none',\n",
            "                        'publishTime': '2025-02-12T12:30:31Z',\n",
            "                        'publishedAt': '2025-02-12T12:30:31Z',\n",
            "                        'thumbnails': {'default': {'height': 90,\n",
            "                                                   'url': 'https://i.ytimg.com/vi/K5KVEU3aaeQ/default.jpg',\n",
            "                                                   'width': 120},\n",
            "                                       'high': {'height': 360,\n",
            "                                                'url': 'https://i.ytimg.com/vi/K5KVEU3aaeQ/hqdefault.jpg',\n",
            "                                                'width': 480},\n",
            "                                       'medium': {'height': 180,\n",
            "                                                  'url': 'https://i.ytimg.com/vi/K5KVEU3aaeQ/mqdefault.jpg',\n",
            "                                                  'width': 320}},\n",
            "                        'title': 'Python Full Course for Beginners [2025]'}},\n",
            "           {'etag': 'ELdCi--KE-fcxXSw8UfShcJyOr8',\n",
            "            'id': {'kind': 'youtube#video', 'videoId': 'bTBUjLdIM1s'},\n",
            "            'kind': 'youtube#searchResult',\n",
            "            'snippet': {'channelId': 'UCs6cMqfQbvP_NEWQeRvZoBw',\n",
            "                        'channelTitle': 'Coderistic ',\n",
            "                        'description': 'ជម្រាបសួរអ្នកទាំងអស់គ្នា! 📽️ '\n",
            "                                       'ក្នុងវីដេអូមួយនេះ ...',\n",
            "                        'liveBroadcastContent': 'none',\n",
            "                        'publishTime': '2025-01-05T02:26:38Z',\n",
            "                        'publishedAt': '2025-01-05T02:26:38Z',\n",
            "                        'thumbnails': {'default': {'height': 90,\n",
            "                                                   'url': 'https://i.ytimg.com/vi/bTBUjLdIM1s/default.jpg',\n",
            "                                                   'width': 120},\n",
            "                                       'high': {'height': 360,\n",
            "                                                'url': 'https://i.ytimg.com/vi/bTBUjLdIM1s/hqdefault.jpg',\n",
            "                                                'width': 480},\n",
            "                                       'medium': {'height': 180,\n",
            "                                                  'url': 'https://i.ytimg.com/vi/bTBUjLdIM1s/mqdefault.jpg',\n",
            "                                                  'width': 320}},\n",
            "                        'title': 'រៀន PYTHON (មួយវគ្គពេញ)'}},\n",
            "           {'etag': 'xlnl5BCkM1y_wKnCEN0I6lf4KZg',\n",
            "            'id': {'kind': 'youtube#video', 'videoId': '9HcFPSwElmw'},\n",
            "            'kind': 'youtube#searchResult',\n",
            "            'snippet': {'channelId': 'UCe52oeb7Xv_KaJsEzcKXJJg',\n",
            "                        'channelTitle': 'MBCkpop',\n",
            "                        'description': 'GOT7 (갓세븐) - PYTHON | Show! MusicCore '\n",
            "                                       '| MBC250125방송 #GOT7 #PYTHON #MBCKPOP '\n",
            "                                       'More clips are ...',\n",
            "                        'liveBroadcastContent': 'none',\n",
            "                        'publishTime': '2025-01-25T07:38:11Z',\n",
            "                        'publishedAt': '2025-01-25T07:38:11Z',\n",
            "                        'thumbnails': {'default': {'height': 90,\n",
            "                                                   'url': 'https://i.ytimg.com/vi/9HcFPSwElmw/default.jpg',\n",
            "                                                   'width': 120},\n",
            "                                       'high': {'height': 360,\n",
            "                                                'url': 'https://i.ytimg.com/vi/9HcFPSwElmw/hqdefault.jpg',\n",
            "                                                'width': 480},\n",
            "                                       'medium': {'height': 180,\n",
            "                                                  'url': 'https://i.ytimg.com/vi/9HcFPSwElmw/mqdefault.jpg',\n",
            "                                                  'width': 320}},\n",
            "                        'title': 'GOT7 (갓세븐) - PYTHON | Show! MusicCore | '\n",
            "                                 'MBC250125방송'}},\n",
            "           {'etag': 'T3qXB58fsqn201dCgCAJmxymSTI',\n",
            "            'id': {'kind': 'youtube#video', 'videoId': 'ix9cRaBkVe0'},\n",
            "            'kind': 'youtube#searchResult',\n",
            "            'snippet': {'channelId': 'UC4SVo0Ue36XCfOyb5Lh1viQ',\n",
            "                        'channelTitle': 'Bro Code',\n",
            "                        'description': 'python #tutorial #beginners Python '\n",
            "                                       \"tutorial for beginners' full course \"\n",
            "                                       '2024 *Learn Python in 1 HOUR* ...',\n",
            "                        'liveBroadcastContent': 'none',\n",
            "                        'publishTime': '2024-08-20T13:00:54Z',\n",
            "                        'publishedAt': '2024-08-20T13:00:54Z',\n",
            "                        'thumbnails': {'default': {'height': 90,\n",
            "                                                   'url': 'https://i.ytimg.com/vi/ix9cRaBkVe0/default.jpg',\n",
            "                                                   'width': 120},\n",
            "                                       'high': {'height': 360,\n",
            "                                                'url': 'https://i.ytimg.com/vi/ix9cRaBkVe0/hqdefault.jpg',\n",
            "                                                'width': 480},\n",
            "                                       'medium': {'height': 180,\n",
            "                                                  'url': 'https://i.ytimg.com/vi/ix9cRaBkVe0/mqdefault.jpg',\n",
            "                                                  'width': 320}},\n",
            "                        'title': 'Python Full Course for free 🐍 (2024)'}},\n",
            "           {'etag': 'nmShXg0bpY21ZWMM9PrYvSWHlM0',\n",
            "            'id': {'kind': 'youtube#video', 'videoId': 'nvFtg5AsZKY'},\n",
            "            'kind': 'youtube#searchResult',\n",
            "            'snippet': {'channelId': 'UChTLNqbdIMNny_vCqn6e-iA',\n",
            "                        'channelTitle': 'Ninja do Excel',\n",
            "                        'description': 'Aula 4: COPILOT PRO + PYTHON NO EXCEL '\n",
            "                                       '– Automação e Análises Poderosas! '\n",
            "                                       'Curso de Excel Completo ...',\n",
            "                        'liveBroadcastContent': 'none',\n",
            "                        'publishTime': '2025-03-17T21:00:40Z',\n",
            "                        'publishedAt': '2025-03-17T21:00:40Z',\n",
            "                        'thumbnails': {'default': {'height': 90,\n",
            "                                                   'url': 'https://i.ytimg.com/vi/nvFtg5AsZKY/default.jpg',\n",
            "                                                   'width': 120},\n",
            "                                       'high': {'height': 360,\n",
            "                                                'url': 'https://i.ytimg.com/vi/nvFtg5AsZKY/hqdefault.jpg',\n",
            "                                                'width': 480},\n",
            "                                       'medium': {'height': 180,\n",
            "                                                  'url': 'https://i.ytimg.com/vi/nvFtg5AsZKY/mqdefault.jpg',\n",
            "                                                  'width': 320}},\n",
            "                        'title': 'Aula 4: COPILOT PRO + PYTHON NO EXCEL – '\n",
            "                                 'Automação e Análises Poderosas!'}},\n",
            "           {'etag': 'PT2K__wTUefqbbGGZp1eLHztnTM',\n",
            "            'id': {'kind': 'youtube#video', 'videoId': 'kqtD5dpn9C8'},\n",
            "            'kind': 'youtube#searchResult',\n",
            "            'snippet': {'channelId': 'UCWv7vMbMWH4-V0ZXdmDpPBA',\n",
            "                        'channelTitle': 'Programming with Mosh',\n",
            "                        'description': 'Learn Python basics in just 1 hour! '\n",
            "                                       'Perfect for beginners interested in AI '\n",
            "                                       'and coding. ⚡ Plus, get 6 months of '\n",
            "                                       'PyCharm FREE with ...',\n",
            "                        'liveBroadcastContent': 'none',\n",
            "                        'publishTime': '2020-09-16T13:00:20Z',\n",
            "                        'publishedAt': '2020-09-16T13:00:20Z',\n",
            "                        'thumbnails': {'default': {'height': 90,\n",
            "                                                   'url': 'https://i.ytimg.com/vi/kqtD5dpn9C8/default.jpg',\n",
            "                                                   'width': 120},\n",
            "                                       'high': {'height': 360,\n",
            "                                                'url': 'https://i.ytimg.com/vi/kqtD5dpn9C8/hqdefault.jpg',\n",
            "                                                'width': 480},\n",
            "                                       'medium': {'height': 180,\n",
            "                                                  'url': 'https://i.ytimg.com/vi/kqtD5dpn9C8/mqdefault.jpg',\n",
            "                                                  'width': 320}},\n",
            "                        'title': 'Python for Beginners - Learn Coding with '\n",
            "                                 'Python in 1 Hour'}}],\n",
            " 'kind': 'youtube#searchListResponse',\n",
            " 'nextPageToken': 'CAoQAA',\n",
            " 'pageInfo': {'resultsPerPage': 10, 'totalResults': 1000000},\n",
            " 'regionCode': 'TW'}\n"
          ]
        }
      ]
    },
    {
      "cell_type": "code",
      "source": [
        "# 取得した動画のタイトルとURLを表示\n",
        "for item in json_data['items']:\n",
        "  video_title = item['snippet']['title']\n",
        "  video_url = f'https://www.youtube.com/watch?v={item[\"id\"][\"videoId\"]}'\n",
        "  print(f'{video_title}: {video_url}')"
      ],
      "metadata": {
        "colab": {
          "base_uri": "https://localhost:8080/"
        },
        "id": "-062OtxR-tp3",
        "outputId": "93bee8ae-f8bd-4098-f809-6513a294e89b"
      },
      "execution_count": null,
      "outputs": [
        {
          "output_type": "stream",
          "name": "stdout",
          "text": [
            "GOT7 &#39;PYTHON&#39; MV: https://www.youtube.com/watch?v=4d5C_PQl8Tg\n",
            "&#39;최초 공개&#39; GOT7 - PYTHON #엠카운트다운 EP.872 | Mnet 250123 방송: https://www.youtube.com/watch?v=8nDFAyWQ2hk\n",
            "[릴레이댄스] GOT7(갓세븐) - PYTHON (4K): https://www.youtube.com/watch?v=Jb1GccV3w_c\n",
            "Python Full Course for Beginners: https://www.youtube.com/watch?v=_uQrJ0TkZlc\n",
            "Python Full Course for Beginners [2025]: https://www.youtube.com/watch?v=K5KVEU3aaeQ\n",
            "រៀន PYTHON (មួយវគ្គពេញ): https://www.youtube.com/watch?v=bTBUjLdIM1s\n",
            "GOT7 (갓세븐) - PYTHON | Show! MusicCore | MBC250125방송: https://www.youtube.com/watch?v=9HcFPSwElmw\n",
            "Python Full Course for free 🐍 (2024): https://www.youtube.com/watch?v=ix9cRaBkVe0\n",
            "Aula 4: COPILOT PRO + PYTHON NO EXCEL – Automação e Análises Poderosas!: https://www.youtube.com/watch?v=nvFtg5AsZKY\n",
            "Python for Beginners - Learn Coding with Python in 1 Hour: https://www.youtube.com/watch?v=kqtD5dpn9C8\n"
          ]
        }
      ]
    }
  ]
}